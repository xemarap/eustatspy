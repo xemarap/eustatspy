{
 "cells": [
  {
   "cell_type": "markdown",
   "metadata": {},
   "source": [
    "# EuStatsPy\n",
    "## A Python wrapper for the Eurostat API\n",
    "\n",
    "A Python wrapper for the Eurostat statistics and catalogue APIs, providing easy access to European statistical data."
   ]
  },
  {
   "cell_type": "markdown",
   "metadata": {},
   "source": [
    "## Setup and configuration\n",
    "Initialize the client with caching configuration. Caching is recommended, the default cache directory is your current working directory. Use the cache_dir paramater to set another directory.\n",
    "\n",
    "It is recommended to also pre-load the metabase for optimal performance. The metabase provides comprehensive and up to date information about dataset and tables dimensions and variables."
   ]
  },
  {
   "cell_type": "code",
   "execution_count": 2,
   "metadata": {},
   "outputs": [
    {
     "name": "stdout",
     "output_type": "stream",
     "text": [
      "🚀 Pre-loading Eurostat metabase...\n",
      "✅ Metabase loaded successfully!\n",
      "   📊 7,501 datasets available\n"
     ]
    }
   ],
   "source": [
    "import eustatspy as est\n",
    "\n",
    "# Initialize the client with caching enabled\n",
    "client = est.EurostatClient(cache_enabled=True)\n",
    "\n",
    "# Pre-load metabase for optimal performance (one-time cost)\n",
    "metabase = client.preload_metabase()"
   ]
  },
  {
   "cell_type": "code",
   "execution_count": 3,
   "metadata": {},
   "outputs": [
    {
     "name": "stdout",
     "output_type": "stream",
     "text": [
      "Cache cleared successfully.\n"
     ]
    }
   ],
   "source": [
    "# Clear cache when needed\n",
    "client.clear_cache()"
   ]
  },
  {
   "cell_type": "markdown",
   "metadata": {},
   "source": [
    "## Search and browse database\n",
    "The EuStatsPy wrapper offers multiple ways to search for datasets and tables in the database."
   ]
  },
  {
   "cell_type": "markdown",
   "metadata": {},
   "source": [
    "### Search for datasets\n",
    "Use the `search_datasets()` functions to search for datasets and tables matching a keyword. Filter your search with the updated_since parameter to get recently updated datasets and tables. \n",
    "\n",
    "This function is useful for exploring the database and for setting up automated data pipelines as you can get codes for updated datasets and tables and look up against your reference table before reading in new data to your application or database."
   ]
  },
  {
   "cell_type": "code",
   "execution_count": 19,
   "metadata": {},
   "outputs": [
    {
     "data": {
      "application/vnd.microsoft.datawrangler.viewer.v0+json": {
       "columns": [
        {
         "name": "index",
         "rawType": "int64",
         "type": "integer"
        },
        {
         "name": "code",
         "rawType": "object",
         "type": "string"
        },
        {
         "name": "title",
         "rawType": "object",
         "type": "string"
        },
        {
         "name": "type",
         "rawType": "object",
         "type": "string"
        },
        {
         "name": "last_update",
         "rawType": "datetime64[ns]",
         "type": "datetime"
        },
        {
         "name": "last_modified",
         "rawType": "datetime64[ns]",
         "type": "datetime"
        },
        {
         "name": "data_start",
         "rawType": "object",
         "type": "string"
        },
        {
         "name": "data_end",
         "rawType": "object",
         "type": "string"
        },
        {
         "name": "values_count",
         "rawType": "float64",
         "type": "float"
        },
        {
         "name": "short_description",
         "rawType": "object",
         "type": "string"
        },
        {
         "name": "unit",
         "rawType": "object",
         "type": "string"
        },
        {
         "name": "source",
         "rawType": "object",
         "type": "string"
        }
       ],
       "ref": "9c3770cb-ec90-4420-ad43-6e3220b62f79",
       "rows": [
        [
         "0",
         "namq_10_gdp",
         "Gross domestic product (GDP) and main components (output, expenditure and income)",
         "dataset",
         "2025-07-10 00:00:00",
         "2025-04-29 00:00:00",
         "1975-Q1",
         "2025-Q1",
         "7893568.0",
         "",
         "",
         ""
        ],
        [
         "1",
         "namq_10_pc",
         "Gross domestic product (GDP) and main components per capita",
         "dataset",
         "2025-07-10 00:00:00",
         "2025-04-29 00:00:00",
         "1980-Q1",
         "2025-Q1",
         "364931.0",
         "",
         "",
         ""
        ],
        [
         "2",
         "teina110",
         "GDP deflator",
         "table",
         "2025-07-10 00:00:00",
         "2025-04-29 00:00:00",
         "2022-Q2",
         "2025-Q1",
         "456.0",
         "",
         "",
         ""
        ],
        [
         "3",
         "sdg_10_10",
         "Purchasing power adjusted GDP per capita",
         "table",
         "2025-07-10 00:00:00",
         "2025-06-18 00:00:00",
         "2000",
         "2024",
         "2216.0",
         "",
         "",
         ""
        ],
        [
         "4",
         "namq_10_gdp",
         "Gross domestic product (GDP) and main components (output, expenditure and income)",
         "dataset",
         "2025-07-10 00:00:00",
         "2025-04-29 00:00:00",
         "1975-Q1",
         "2025-Q1",
         "7893568.0",
         "",
         "",
         ""
        ]
       ],
       "shape": {
        "columns": 11,
        "rows": 5
       }
      },
      "text/html": [
       "<div>\n",
       "<style scoped>\n",
       "    .dataframe tbody tr th:only-of-type {\n",
       "        vertical-align: middle;\n",
       "    }\n",
       "\n",
       "    .dataframe tbody tr th {\n",
       "        vertical-align: top;\n",
       "    }\n",
       "\n",
       "    .dataframe thead th {\n",
       "        text-align: right;\n",
       "    }\n",
       "</style>\n",
       "<table border=\"1\" class=\"dataframe\">\n",
       "  <thead>\n",
       "    <tr style=\"text-align: right;\">\n",
       "      <th></th>\n",
       "      <th>code</th>\n",
       "      <th>title</th>\n",
       "      <th>type</th>\n",
       "      <th>last_update</th>\n",
       "      <th>last_modified</th>\n",
       "      <th>data_start</th>\n",
       "      <th>data_end</th>\n",
       "      <th>values_count</th>\n",
       "      <th>short_description</th>\n",
       "      <th>unit</th>\n",
       "      <th>source</th>\n",
       "    </tr>\n",
       "  </thead>\n",
       "  <tbody>\n",
       "    <tr>\n",
       "      <th>0</th>\n",
       "      <td>namq_10_gdp</td>\n",
       "      <td>Gross domestic product (GDP) and main componen...</td>\n",
       "      <td>dataset</td>\n",
       "      <td>2025-07-10</td>\n",
       "      <td>2025-04-29</td>\n",
       "      <td>1975-Q1</td>\n",
       "      <td>2025-Q1</td>\n",
       "      <td>7893568.0</td>\n",
       "      <td></td>\n",
       "      <td></td>\n",
       "      <td></td>\n",
       "    </tr>\n",
       "    <tr>\n",
       "      <th>1</th>\n",
       "      <td>namq_10_pc</td>\n",
       "      <td>Gross domestic product (GDP) and main componen...</td>\n",
       "      <td>dataset</td>\n",
       "      <td>2025-07-10</td>\n",
       "      <td>2025-04-29</td>\n",
       "      <td>1980-Q1</td>\n",
       "      <td>2025-Q1</td>\n",
       "      <td>364931.0</td>\n",
       "      <td></td>\n",
       "      <td></td>\n",
       "      <td></td>\n",
       "    </tr>\n",
       "    <tr>\n",
       "      <th>2</th>\n",
       "      <td>teina110</td>\n",
       "      <td>GDP deflator</td>\n",
       "      <td>table</td>\n",
       "      <td>2025-07-10</td>\n",
       "      <td>2025-04-29</td>\n",
       "      <td>2022-Q2</td>\n",
       "      <td>2025-Q1</td>\n",
       "      <td>456.0</td>\n",
       "      <td></td>\n",
       "      <td></td>\n",
       "      <td></td>\n",
       "    </tr>\n",
       "    <tr>\n",
       "      <th>3</th>\n",
       "      <td>sdg_10_10</td>\n",
       "      <td>Purchasing power adjusted GDP per capita</td>\n",
       "      <td>table</td>\n",
       "      <td>2025-07-10</td>\n",
       "      <td>2025-06-18</td>\n",
       "      <td>2000</td>\n",
       "      <td>2024</td>\n",
       "      <td>2216.0</td>\n",
       "      <td></td>\n",
       "      <td></td>\n",
       "      <td></td>\n",
       "    </tr>\n",
       "    <tr>\n",
       "      <th>4</th>\n",
       "      <td>namq_10_gdp</td>\n",
       "      <td>Gross domestic product (GDP) and main componen...</td>\n",
       "      <td>dataset</td>\n",
       "      <td>2025-07-10</td>\n",
       "      <td>2025-04-29</td>\n",
       "      <td>1975-Q1</td>\n",
       "      <td>2025-Q1</td>\n",
       "      <td>7893568.0</td>\n",
       "      <td></td>\n",
       "      <td></td>\n",
       "      <td></td>\n",
       "    </tr>\n",
       "  </tbody>\n",
       "</table>\n",
       "</div>"
      ],
      "text/plain": [
       "          code                                              title     type  \\\n",
       "0  namq_10_gdp  Gross domestic product (GDP) and main componen...  dataset   \n",
       "1   namq_10_pc  Gross domestic product (GDP) and main componen...  dataset   \n",
       "2     teina110                                       GDP deflator    table   \n",
       "3    sdg_10_10           Purchasing power adjusted GDP per capita    table   \n",
       "4  namq_10_gdp  Gross domestic product (GDP) and main componen...  dataset   \n",
       "\n",
       "  last_update last_modified data_start data_end  values_count  \\\n",
       "0  2025-07-10    2025-04-29    1975-Q1  2025-Q1     7893568.0   \n",
       "1  2025-07-10    2025-04-29    1980-Q1  2025-Q1      364931.0   \n",
       "2  2025-07-10    2025-04-29    2022-Q2  2025-Q1         456.0   \n",
       "3  2025-07-10    2025-06-18       2000     2024        2216.0   \n",
       "4  2025-07-10    2025-04-29    1975-Q1  2025-Q1     7893568.0   \n",
       "\n",
       "  short_description unit source  \n",
       "0                                \n",
       "1                                \n",
       "2                                \n",
       "3                                \n",
       "4                                "
      ]
     },
     "execution_count": 19,
     "metadata": {},
     "output_type": "execute_result"
    }
   ],
   "source": [
    "# Basic search\n",
    "client.search_datasets(\"GDP\", max_results=5)"
   ]
  },
  {
   "cell_type": "code",
   "execution_count": null,
   "metadata": {},
   "outputs": [
    {
     "data": {
      "application/vnd.microsoft.datawrangler.viewer.v0+json": {
       "columns": [
        {
         "name": "index",
         "rawType": "int64",
         "type": "integer"
        },
        {
         "name": "code",
         "rawType": "object",
         "type": "string"
        },
        {
         "name": "title",
         "rawType": "object",
         "type": "string"
        },
        {
         "name": "type",
         "rawType": "object",
         "type": "string"
        },
        {
         "name": "last_update",
         "rawType": "datetime64[ns]",
         "type": "datetime"
        },
        {
         "name": "last_modified",
         "rawType": "datetime64[ns]",
         "type": "datetime"
        },
        {
         "name": "data_start",
         "rawType": "object",
         "type": "string"
        },
        {
         "name": "data_end",
         "rawType": "object",
         "type": "string"
        },
        {
         "name": "values_count",
         "rawType": "int64",
         "type": "integer"
        },
        {
         "name": "short_description",
         "rawType": "object",
         "type": "string"
        },
        {
         "name": "unit",
         "rawType": "object",
         "type": "string"
        },
        {
         "name": "source",
         "rawType": "object",
         "type": "string"
        }
       ],
       "ref": "616d3a72-5a8a-4ca0-b579-552b0a818465",
       "rows": [
        [
         "0",
         "ei_lmhu_m",
         "Unemployment (1 000) - monthly data",
         "table",
         "2025-07-07 00:00:00",
         "2025-07-07 00:00:00",
         "1983-01",
         "2025-06",
         "247943",
         "",
         "",
         ""
        ],
        [
         "1",
         "ei_lmhr_m",
         "Unemployment rate (%) - monthly data",
         "table",
         "2025-07-07 00:00:00",
         "2025-07-07 00:00:00",
         "1983-01",
         "2025-06",
         "244492",
         "",
         "",
         ""
        ],
        [
         "2",
         "ei_lm_m_vtg",
         "Unemployment - monthly data - vintages from 2021 onwards",
         "dataset",
         "2025-07-07 00:00:00",
         "2025-07-07 00:00:00",
         "1983-01",
         "2025-05",
         "1277404",
         "",
         "",
         ""
        ],
        [
         "3",
         "une_rt_m",
         "Unemployment by sex and age - monthly data",
         "dataset",
         "2025-07-07 00:00:00",
         "2025-07-07 00:00:00",
         "1983-01",
         "2025-06",
         "719647",
         "",
         "",
         ""
        ],
        [
         "4",
         "teilm010",
         "Unemployment by sex",
         "table",
         "2025-07-07 00:00:00",
         "2025-07-07 00:00:00",
         "2024-07",
         "2025-06",
         "1179",
         "",
         "",
         ""
        ]
       ],
       "shape": {
        "columns": 11,
        "rows": 5
       }
      },
      "text/html": [
       "<div>\n",
       "<style scoped>\n",
       "    .dataframe tbody tr th:only-of-type {\n",
       "        vertical-align: middle;\n",
       "    }\n",
       "\n",
       "    .dataframe tbody tr th {\n",
       "        vertical-align: top;\n",
       "    }\n",
       "\n",
       "    .dataframe thead th {\n",
       "        text-align: right;\n",
       "    }\n",
       "</style>\n",
       "<table border=\"1\" class=\"dataframe\">\n",
       "  <thead>\n",
       "    <tr style=\"text-align: right;\">\n",
       "      <th></th>\n",
       "      <th>code</th>\n",
       "      <th>title</th>\n",
       "      <th>type</th>\n",
       "      <th>last_update</th>\n",
       "      <th>last_modified</th>\n",
       "      <th>data_start</th>\n",
       "      <th>data_end</th>\n",
       "      <th>values_count</th>\n",
       "      <th>short_description</th>\n",
       "      <th>unit</th>\n",
       "      <th>source</th>\n",
       "    </tr>\n",
       "  </thead>\n",
       "  <tbody>\n",
       "    <tr>\n",
       "      <th>0</th>\n",
       "      <td>ei_lmhu_m</td>\n",
       "      <td>Unemployment (1 000) - monthly data</td>\n",
       "      <td>table</td>\n",
       "      <td>2025-07-07</td>\n",
       "      <td>2025-07-07</td>\n",
       "      <td>1983-01</td>\n",
       "      <td>2025-06</td>\n",
       "      <td>247943</td>\n",
       "      <td></td>\n",
       "      <td></td>\n",
       "      <td></td>\n",
       "    </tr>\n",
       "    <tr>\n",
       "      <th>1</th>\n",
       "      <td>ei_lmhr_m</td>\n",
       "      <td>Unemployment rate (%) - monthly data</td>\n",
       "      <td>table</td>\n",
       "      <td>2025-07-07</td>\n",
       "      <td>2025-07-07</td>\n",
       "      <td>1983-01</td>\n",
       "      <td>2025-06</td>\n",
       "      <td>244492</td>\n",
       "      <td></td>\n",
       "      <td></td>\n",
       "      <td></td>\n",
       "    </tr>\n",
       "    <tr>\n",
       "      <th>2</th>\n",
       "      <td>ei_lm_m_vtg</td>\n",
       "      <td>Unemployment - monthly data - vintages from 20...</td>\n",
       "      <td>dataset</td>\n",
       "      <td>2025-07-07</td>\n",
       "      <td>2025-07-07</td>\n",
       "      <td>1983-01</td>\n",
       "      <td>2025-05</td>\n",
       "      <td>1277404</td>\n",
       "      <td></td>\n",
       "      <td></td>\n",
       "      <td></td>\n",
       "    </tr>\n",
       "    <tr>\n",
       "      <th>3</th>\n",
       "      <td>une_rt_m</td>\n",
       "      <td>Unemployment by sex and age - monthly data</td>\n",
       "      <td>dataset</td>\n",
       "      <td>2025-07-07</td>\n",
       "      <td>2025-07-07</td>\n",
       "      <td>1983-01</td>\n",
       "      <td>2025-06</td>\n",
       "      <td>719647</td>\n",
       "      <td></td>\n",
       "      <td></td>\n",
       "      <td></td>\n",
       "    </tr>\n",
       "    <tr>\n",
       "      <th>4</th>\n",
       "      <td>teilm010</td>\n",
       "      <td>Unemployment by sex</td>\n",
       "      <td>table</td>\n",
       "      <td>2025-07-07</td>\n",
       "      <td>2025-07-07</td>\n",
       "      <td>2024-07</td>\n",
       "      <td>2025-06</td>\n",
       "      <td>1179</td>\n",
       "      <td></td>\n",
       "      <td></td>\n",
       "      <td></td>\n",
       "    </tr>\n",
       "  </tbody>\n",
       "</table>\n",
       "</div>"
      ],
      "text/plain": [
       "          code                                              title     type  \\\n",
       "0    ei_lmhu_m                Unemployment (1 000) - monthly data    table   \n",
       "1    ei_lmhr_m               Unemployment rate (%) - monthly data    table   \n",
       "2  ei_lm_m_vtg  Unemployment - monthly data - vintages from 20...  dataset   \n",
       "3     une_rt_m         Unemployment by sex and age - monthly data  dataset   \n",
       "4     teilm010                                Unemployment by sex    table   \n",
       "\n",
       "  last_update last_modified data_start data_end  values_count  \\\n",
       "0  2025-07-07    2025-07-07    1983-01  2025-06        247943   \n",
       "1  2025-07-07    2025-07-07    1983-01  2025-06        244492   \n",
       "2  2025-07-07    2025-07-07    1983-01  2025-05       1277404   \n",
       "3  2025-07-07    2025-07-07    1983-01  2025-06        719647   \n",
       "4  2025-07-07    2025-07-07    2024-07  2025-06          1179   \n",
       "\n",
       "  short_description unit source  \n",
       "0                                \n",
       "1                                \n",
       "2                                \n",
       "3                                \n",
       "4                                "
      ]
     },
     "execution_count": 6,
     "metadata": {},
     "output_type": "execute_result"
    }
   ],
   "source": [
    "# Search with date filter (data updated since specific date)\n",
    "recent_data = client.search_datasets(\n",
    "    query=\"unemployment\", \n",
    "    updated_since=\"2025-07-07\",\n",
    "    max_results=5\n",
    ")\n",
    "\n",
    "recent_data"
   ]
  },
  {
   "cell_type": "markdown",
   "metadata": {},
   "source": [
    "### Browse the database\n",
    "The EuStatsPy wrapper provides full and intuitive navigation of the Eurostat database."
   ]
  },
  {
   "cell_type": "code",
   "execution_count": 7,
   "metadata": {},
   "outputs": [
    {
     "name": "stdout",
     "output_type": "stream",
     "text": [
      "Eurostat Database - Main Themes:\n",
      "==================================================\n",
      "📊 Themes:\n",
      "  📁 general: General and regional statistics (8 items)\n",
      "  📁 economy: Economy and finance (7 items)\n",
      "  📁 popul: Population and social conditions (14 items)\n",
      "  📁 icts: Industry, trade and services (4 items)\n",
      "  📁 agric: Agriculture, forestry and fisheries (3 items)\n",
      "  📁 external: International trade (2 items)\n",
      "  📁 transp: Transport (9 items)\n",
      "  📁 envir: Environment and energy (2 items)\n",
      "  📁 science: Science, technology, digital society (2 items)\n",
      "  📁 tb_eu: Tables on EU policy (6 items)\n",
      "  📁 cc: Cross cutting topics (9 items)\n",
      "\n",
      "Showing all 11 items in this folder.\n",
      "\n",
      "Use browse_database('folder_code') to explore subfolders or describe_dataset('dataset_code') for dataset details.\n"
     ]
    }
   ],
   "source": [
    "# Start at the root to see main themes\n",
    "client.browse_database()"
   ]
  },
  {
   "cell_type": "code",
   "execution_count": 8,
   "metadata": {},
   "outputs": [
    {
     "name": "stdout",
     "output_type": "stream",
     "text": [
      "📁 general: General and regional statistics\n",
      "============================================================\n",
      "📁 Folders:\n",
      "  📁 euroind: European and national indicators for short-term analysis (10 items)\n",
      "  📁 reg: Regional statistics by NUTS classification (17 items)\n",
      "  📁 reg_typ: Regional statistics by typology (3 items)\n",
      "  📁 degurb: Degree of urbanisation (7 items)\n",
      "  📁 urb: City statistics (3 items)\n",
      "  📁 reg_nat: Other sub-national statistics (3 items)\n",
      "  📁 lan: Land cover and land use, landscape (LUCAS) (6 items)\n",
      "  📁 noneu: Non EU countries (3 items)\n",
      "\n",
      "Showing all 8 items in this folder.\n",
      "\n",
      "Use browse_database('folder_code') to explore subfolders or describe_dataset('dataset_code') for dataset details.\n"
     ]
    }
   ],
   "source": [
    "# Explore specific themes\n",
    "client.browse_database('general')  # General statistics"
   ]
  },
  {
   "cell_type": "code",
   "execution_count": null,
   "metadata": {},
   "outputs": [
    {
     "name": "stdout",
     "output_type": "stream",
     "text": [
      "📁 reg_demfer: Fertility\n",
      "============================================================\n",
      "\n",
      "📄 Datasets and Tables:\n",
      "  📄 demo_r_births: Live births (total) by NUTS 3 region (Updated: 2025-04-01, 58,272 values)\n",
      "  📄 demo_r_fagec3: Live births by age group of the mothers and NUTS 3 region (Updated: 2025-03-07, 242,464 values)\n",
      "  📄 demo_r_fagec: Live births by mother's age and NUTS 2 region (Updated: 2025-04-01, 525,487 values)\n",
      "  📄 demo_r_frate2: Fertility rates by age and NUTS 2 region (Updated: 2025-07-03, 475,594 values)\n",
      "  📄 demo_r_find2: Fertility indicators by NUTS 2 region (Updated: 2025-07-03, 39,350 values)\n",
      "  📄 demo_r_find3: Fertility indicators by NUTS 3 region (Updated: 2025-07-03, 59,035 values)\n",
      "\n",
      "Showing all 6 items in this folder.\n",
      "\n",
      "Use browse_database('folder_code') to explore subfolders or describe_dataset('dataset_code') for dataset details.\n"
     ]
    }
   ],
   "source": [
    "# Find datasets and tables\n",
    "client.browse_database('reg_demfer')  # Fertility"
   ]
  },
  {
   "cell_type": "markdown",
   "metadata": {},
   "source": [
    "## Get data from database\n",
    "\n",
    "To get data from a dataset or table you need the unique dataset/table code."
   ]
  },
  {
   "cell_type": "markdown",
   "metadata": {},
   "source": [
    "### View dataset dimensions and variables\n",
    "To view the available dimensions and variables in a in a dataset or table you can use the `describe_dataset()`function."
   ]
  },
  {
   "cell_type": "code",
   "execution_count": 21,
   "metadata": {},
   "outputs": [
    {
     "name": "stdout",
     "output_type": "stream",
     "text": [
      "Dataset: nama_10_gdp\n",
      "==================================================\n",
      "Title: Gross domestic product (GDP) and main components (output, expenditure and income)\n",
      "Type: dataset\n",
      "Last Updated: 2025-07-08 00:00:00\n",
      "Data Period: 1975 - 2024\n",
      "Number of Values: 1,050,045\n",
      "\n",
      "Available Dimensions and Filters:\n",
      "-----------------------------------\n",
      "(Found 4 dimensions in metabase)\n",
      "\n",
      "geo:\n",
      "  - EU27_2020\n",
      "  - EA\n",
      "  - EA20\n",
      "  - EA19\n",
      "  - EA12\n",
      "  ... and 40 more values\n",
      "  (Use show_all_for_dimension='geo' to see all 45 values)\n",
      "\n",
      "na_item:\n",
      "  - B1GQ\n",
      "  - B1G\n",
      "  - P3\n",
      "  - P3_S13\n",
      "  - P31_S13\n",
      "  ... and 34 more values\n",
      "  (Use show_all_for_dimension='na_item' to see all 39 values)\n",
      "\n",
      "time:\n",
      "  - 2024\n",
      "  - 2023\n",
      "  - 2022\n",
      "  - 2021\n",
      "  - 2020\n",
      "  ... and 45 more values\n",
      "  (Use show_all_for_dimension='time' to see all 50 values)\n",
      "\n",
      "unit:\n",
      "  - CLV_I20\n",
      "  - CLV_I15\n",
      "  - CLV_I10\n",
      "  - CLV_I05\n",
      "  - PC_GDP\n",
      "  ... and 27 more values\n",
      "  (Use show_all_for_dimension='unit' to see all 32 values)\n",
      "\n",
      "Tip: Use show_all_for_dimension='dimension_name' to see all available values for a specific dimension.\n",
      "     Example: client.describe_dataset('nama_10_gdp', show_all_for_dimension='geo')\n",
      "\n",
      "Note: Dimension information from metabase (comprehensive, fast, no labels).\n"
     ]
    }
   ],
   "source": [
    "# Get data for a specific table\n",
    "dataset_code = \"nama_10_gdp\"\n",
    "\n",
    "# See all available dimensions and variables for specific dataset or table\n",
    "client.describe_dataset(dataset_code, max_values_per_dimension=5)"
   ]
  },
  {
   "cell_type": "markdown",
   "metadata": {},
   "source": [
    "### Get data as Pandas DataFrame\n",
    "Use the `get_data_as_dataframe()`function to get data as a Pandas DataFrame."
   ]
  },
  {
   "cell_type": "code",
   "execution_count": null,
   "metadata": {},
   "outputs": [
    {
     "data": {
      "application/vnd.microsoft.datawrangler.viewer.v0+json": {
       "columns": [
        {
         "name": "index",
         "rawType": "int64",
         "type": "integer"
        },
        {
         "name": "freq",
         "rawType": "object",
         "type": "string"
        },
        {
         "name": "unit",
         "rawType": "object",
         "type": "string"
        },
        {
         "name": "na_item",
         "rawType": "object",
         "type": "string"
        },
        {
         "name": "geo",
         "rawType": "object",
         "type": "string"
        },
        {
         "name": "time",
         "rawType": "object",
         "type": "string"
        },
        {
         "name": "value",
         "rawType": "float64",
         "type": "float"
        },
        {
         "name": "freq_label",
         "rawType": "object",
         "type": "string"
        },
        {
         "name": "unit_label",
         "rawType": "object",
         "type": "string"
        },
        {
         "name": "na_item_label",
         "rawType": "object",
         "type": "string"
        },
        {
         "name": "geo_label",
         "rawType": "object",
         "type": "string"
        },
        {
         "name": "time_label",
         "rawType": "object",
         "type": "string"
        }
       ],
       "ref": "68c9ed6c-8651-4a57-8c45-f779092e8fc8",
       "rows": [
        [
         "0",
         "A",
         "CP_MEUR",
         "B1GQ",
         "SE",
         "2020",
         "478106.9",
         "Annual",
         "Current prices, million euro",
         "Gross domestic product at market prices",
         "Sweden",
         "2020"
        ],
        [
         "1",
         "A",
         "CP_MEUR",
         "B1GQ",
         "SE",
         "2021",
         "533953.6",
         "Annual",
         "Current prices, million euro",
         "Gross domestic product at market prices",
         "Sweden",
         "2021"
        ],
        [
         "2",
         "A",
         "CP_MEUR",
         "B1GQ",
         "SE",
         "2022",
         "547190.4",
         "Annual",
         "Current prices, million euro",
         "Gross domestic product at market prices",
         "Sweden",
         "2022"
        ],
        [
         "3",
         "A",
         "CP_MEUR",
         "B1GQ",
         "SE",
         "2023",
         "535176.8",
         "Annual",
         "Current prices, million euro",
         "Gross domestic product at market prices",
         "Sweden",
         "2023"
        ],
        [
         "4",
         "A",
         "CP_MEUR",
         "B1GQ",
         "SE",
         "2024",
         "559138.7",
         "Annual",
         "Current prices, million euro",
         "Gross domestic product at market prices",
         "Sweden",
         "2024"
        ]
       ],
       "shape": {
        "columns": 11,
        "rows": 5
       }
      },
      "text/html": [
       "<div>\n",
       "<style scoped>\n",
       "    .dataframe tbody tr th:only-of-type {\n",
       "        vertical-align: middle;\n",
       "    }\n",
       "\n",
       "    .dataframe tbody tr th {\n",
       "        vertical-align: top;\n",
       "    }\n",
       "\n",
       "    .dataframe thead th {\n",
       "        text-align: right;\n",
       "    }\n",
       "</style>\n",
       "<table border=\"1\" class=\"dataframe\">\n",
       "  <thead>\n",
       "    <tr style=\"text-align: right;\">\n",
       "      <th></th>\n",
       "      <th>freq</th>\n",
       "      <th>unit</th>\n",
       "      <th>na_item</th>\n",
       "      <th>geo</th>\n",
       "      <th>time</th>\n",
       "      <th>value</th>\n",
       "      <th>freq_label</th>\n",
       "      <th>unit_label</th>\n",
       "      <th>na_item_label</th>\n",
       "      <th>geo_label</th>\n",
       "      <th>time_label</th>\n",
       "    </tr>\n",
       "  </thead>\n",
       "  <tbody>\n",
       "    <tr>\n",
       "      <th>0</th>\n",
       "      <td>A</td>\n",
       "      <td>CP_MEUR</td>\n",
       "      <td>B1GQ</td>\n",
       "      <td>SE</td>\n",
       "      <td>2020</td>\n",
       "      <td>478106.9</td>\n",
       "      <td>Annual</td>\n",
       "      <td>Current prices, million euro</td>\n",
       "      <td>Gross domestic product at market prices</td>\n",
       "      <td>Sweden</td>\n",
       "      <td>2020</td>\n",
       "    </tr>\n",
       "    <tr>\n",
       "      <th>1</th>\n",
       "      <td>A</td>\n",
       "      <td>CP_MEUR</td>\n",
       "      <td>B1GQ</td>\n",
       "      <td>SE</td>\n",
       "      <td>2021</td>\n",
       "      <td>533953.6</td>\n",
       "      <td>Annual</td>\n",
       "      <td>Current prices, million euro</td>\n",
       "      <td>Gross domestic product at market prices</td>\n",
       "      <td>Sweden</td>\n",
       "      <td>2021</td>\n",
       "    </tr>\n",
       "    <tr>\n",
       "      <th>2</th>\n",
       "      <td>A</td>\n",
       "      <td>CP_MEUR</td>\n",
       "      <td>B1GQ</td>\n",
       "      <td>SE</td>\n",
       "      <td>2022</td>\n",
       "      <td>547190.4</td>\n",
       "      <td>Annual</td>\n",
       "      <td>Current prices, million euro</td>\n",
       "      <td>Gross domestic product at market prices</td>\n",
       "      <td>Sweden</td>\n",
       "      <td>2022</td>\n",
       "    </tr>\n",
       "    <tr>\n",
       "      <th>3</th>\n",
       "      <td>A</td>\n",
       "      <td>CP_MEUR</td>\n",
       "      <td>B1GQ</td>\n",
       "      <td>SE</td>\n",
       "      <td>2023</td>\n",
       "      <td>535176.8</td>\n",
       "      <td>Annual</td>\n",
       "      <td>Current prices, million euro</td>\n",
       "      <td>Gross domestic product at market prices</td>\n",
       "      <td>Sweden</td>\n",
       "      <td>2023</td>\n",
       "    </tr>\n",
       "    <tr>\n",
       "      <th>4</th>\n",
       "      <td>A</td>\n",
       "      <td>CP_MEUR</td>\n",
       "      <td>B1GQ</td>\n",
       "      <td>SE</td>\n",
       "      <td>2024</td>\n",
       "      <td>559138.7</td>\n",
       "      <td>Annual</td>\n",
       "      <td>Current prices, million euro</td>\n",
       "      <td>Gross domestic product at market prices</td>\n",
       "      <td>Sweden</td>\n",
       "      <td>2024</td>\n",
       "    </tr>\n",
       "  </tbody>\n",
       "</table>\n",
       "</div>"
      ],
      "text/plain": [
       "  freq     unit na_item geo  time     value freq_label  \\\n",
       "0    A  CP_MEUR    B1GQ  SE  2020  478106.9     Annual   \n",
       "1    A  CP_MEUR    B1GQ  SE  2021  533953.6     Annual   \n",
       "2    A  CP_MEUR    B1GQ  SE  2022  547190.4     Annual   \n",
       "3    A  CP_MEUR    B1GQ  SE  2023  535176.8     Annual   \n",
       "4    A  CP_MEUR    B1GQ  SE  2024  559138.7     Annual   \n",
       "\n",
       "                     unit_label                            na_item_label  \\\n",
       "0  Current prices, million euro  Gross domestic product at market prices   \n",
       "1  Current prices, million euro  Gross domestic product at market prices   \n",
       "2  Current prices, million euro  Gross domestic product at market prices   \n",
       "3  Current prices, million euro  Gross domestic product at market prices   \n",
       "4  Current prices, million euro  Gross domestic product at market prices   \n",
       "\n",
       "  geo_label time_label  \n",
       "0    Sweden       2020  \n",
       "1    Sweden       2021  \n",
       "2    Sweden       2022  \n",
       "3    Sweden       2023  \n",
       "4    Sweden       2024  "
      ]
     },
     "execution_count": 13,
     "metadata": {},
     "output_type": "execute_result"
    }
   ],
   "source": [
    "# Get data as Pandas DataFrame\n",
    "df = client.get_data_as_dataframe(\n",
    "       dataset_code,\n",
    "       geo='SE',\n",
    "       unit='CP_MEUR',\n",
    "       lastTimePeriod=5\n",
    "   )\n",
    "\n",
    "df.head()"
   ]
  },
  {
   "cell_type": "markdown",
   "metadata": {},
   "source": [
    "#### Selection Criteria\n",
    "\n",
    "The API supports powerful selection expressions for filtering data. These expressions can be used with the `get_data_as_dataframe()` function.\n",
    "\n",
    "Selection Expression Examples:\n",
    "\n",
    "- **geo**: Geographic areas - `'SE'`, `['SE', 'DK']`, or `'all'`\n",
    "- **time**: Time periods - `'2020'`, `['2020', '2021']`, `'2020-Q1'`\n",
    "- **geoLevel**: Geographic level - `'country'`, `'nuts1'`, `'nuts2'`, `'nuts3'`, `'city'`, `'aggregate'`\n",
    "- **lastTimePeriod**: Number of latest periods - `1`, `5`, `10`\n",
    "- **sinceTimePeriod**: Start period - `'2020'`, `'2020-Q1'`, `'2020-01'`\n",
    "- **untilTimePeriod**: End period - `'2023'`, `'2023-Q4'`, `'2023-12'`\n",
    "\n",
    "Plus dataset-specific dimensions like `unit`, `na_item`, `sex`, `age` etc."
   ]
  },
  {
   "cell_type": "code",
   "execution_count": null,
   "metadata": {},
   "outputs": [
    {
     "data": {
      "application/vnd.microsoft.datawrangler.viewer.v0+json": {
       "columns": [
        {
         "name": "index",
         "rawType": "int64",
         "type": "integer"
        },
        {
         "name": "freq",
         "rawType": "object",
         "type": "string"
        },
        {
         "name": "unit",
         "rawType": "object",
         "type": "string"
        },
        {
         "name": "na_item",
         "rawType": "object",
         "type": "string"
        },
        {
         "name": "geo",
         "rawType": "object",
         "type": "string"
        },
        {
         "name": "time",
         "rawType": "object",
         "type": "string"
        },
        {
         "name": "value",
         "rawType": "float64",
         "type": "float"
        },
        {
         "name": "status",
         "rawType": "object",
         "type": "string"
        },
        {
         "name": "freq_label",
         "rawType": "object",
         "type": "string"
        },
        {
         "name": "unit_label",
         "rawType": "object",
         "type": "string"
        },
        {
         "name": "na_item_label",
         "rawType": "object",
         "type": "string"
        },
        {
         "name": "geo_label",
         "rawType": "object",
         "type": "string"
        },
        {
         "name": "time_label",
         "rawType": "object",
         "type": "string"
        }
       ],
       "ref": "d4955ead-899f-485b-9b8d-ecb157a3d6cb",
       "rows": [
        [
         "0",
         "A",
         "CP_MEUR",
         "B1GQ",
         "BE",
         "2024",
         "613983.9",
         "p",
         "Annual",
         "Current prices, million euro",
         "Gross domestic product at market prices",
         "Belgium",
         "2024"
        ],
        [
         "1",
         "A",
         "CP_MEUR",
         "B1GQ",
         "BG",
         "2024",
         "103723.0",
         "p",
         "Annual",
         "Current prices, million euro",
         "Gross domestic product at market prices",
         "Bulgaria",
         "2024"
        ],
        [
         "2",
         "A",
         "CP_MEUR",
         "B1GQ",
         "CZ",
         "2024",
         "320741.7",
         "",
         "Annual",
         "Current prices, million euro",
         "Gross domestic product at market prices",
         "Czechia",
         "2024"
        ],
        [
         "3",
         "A",
         "CP_MEUR",
         "B1GQ",
         "DK",
         "2024",
         "392400.7",
         "",
         "Annual",
         "Current prices, million euro",
         "Gross domestic product at market prices",
         "Denmark",
         "2024"
        ],
        [
         "4",
         "A",
         "CP_MEUR",
         "B1GQ",
         "DE",
         "2024",
         "4305260.0",
         "p",
         "Annual",
         "Current prices, million euro",
         "Gross domestic product at market prices",
         "Germany",
         "2024"
        ]
       ],
       "shape": {
        "columns": 12,
        "rows": 5
       }
      },
      "text/html": [
       "<div>\n",
       "<style scoped>\n",
       "    .dataframe tbody tr th:only-of-type {\n",
       "        vertical-align: middle;\n",
       "    }\n",
       "\n",
       "    .dataframe tbody tr th {\n",
       "        vertical-align: top;\n",
       "    }\n",
       "\n",
       "    .dataframe thead th {\n",
       "        text-align: right;\n",
       "    }\n",
       "</style>\n",
       "<table border=\"1\" class=\"dataframe\">\n",
       "  <thead>\n",
       "    <tr style=\"text-align: right;\">\n",
       "      <th></th>\n",
       "      <th>freq</th>\n",
       "      <th>unit</th>\n",
       "      <th>na_item</th>\n",
       "      <th>geo</th>\n",
       "      <th>time</th>\n",
       "      <th>value</th>\n",
       "      <th>status</th>\n",
       "      <th>freq_label</th>\n",
       "      <th>unit_label</th>\n",
       "      <th>na_item_label</th>\n",
       "      <th>geo_label</th>\n",
       "      <th>time_label</th>\n",
       "    </tr>\n",
       "  </thead>\n",
       "  <tbody>\n",
       "    <tr>\n",
       "      <th>0</th>\n",
       "      <td>A</td>\n",
       "      <td>CP_MEUR</td>\n",
       "      <td>B1GQ</td>\n",
       "      <td>BE</td>\n",
       "      <td>2024</td>\n",
       "      <td>613983.9</td>\n",
       "      <td>p</td>\n",
       "      <td>Annual</td>\n",
       "      <td>Current prices, million euro</td>\n",
       "      <td>Gross domestic product at market prices</td>\n",
       "      <td>Belgium</td>\n",
       "      <td>2024</td>\n",
       "    </tr>\n",
       "    <tr>\n",
       "      <th>1</th>\n",
       "      <td>A</td>\n",
       "      <td>CP_MEUR</td>\n",
       "      <td>B1GQ</td>\n",
       "      <td>BG</td>\n",
       "      <td>2024</td>\n",
       "      <td>103723.0</td>\n",
       "      <td>p</td>\n",
       "      <td>Annual</td>\n",
       "      <td>Current prices, million euro</td>\n",
       "      <td>Gross domestic product at market prices</td>\n",
       "      <td>Bulgaria</td>\n",
       "      <td>2024</td>\n",
       "    </tr>\n",
       "    <tr>\n",
       "      <th>2</th>\n",
       "      <td>A</td>\n",
       "      <td>CP_MEUR</td>\n",
       "      <td>B1GQ</td>\n",
       "      <td>CZ</td>\n",
       "      <td>2024</td>\n",
       "      <td>320741.7</td>\n",
       "      <td></td>\n",
       "      <td>Annual</td>\n",
       "      <td>Current prices, million euro</td>\n",
       "      <td>Gross domestic product at market prices</td>\n",
       "      <td>Czechia</td>\n",
       "      <td>2024</td>\n",
       "    </tr>\n",
       "    <tr>\n",
       "      <th>3</th>\n",
       "      <td>A</td>\n",
       "      <td>CP_MEUR</td>\n",
       "      <td>B1GQ</td>\n",
       "      <td>DK</td>\n",
       "      <td>2024</td>\n",
       "      <td>392400.7</td>\n",
       "      <td></td>\n",
       "      <td>Annual</td>\n",
       "      <td>Current prices, million euro</td>\n",
       "      <td>Gross domestic product at market prices</td>\n",
       "      <td>Denmark</td>\n",
       "      <td>2024</td>\n",
       "    </tr>\n",
       "    <tr>\n",
       "      <th>4</th>\n",
       "      <td>A</td>\n",
       "      <td>CP_MEUR</td>\n",
       "      <td>B1GQ</td>\n",
       "      <td>DE</td>\n",
       "      <td>2024</td>\n",
       "      <td>4305260.0</td>\n",
       "      <td>p</td>\n",
       "      <td>Annual</td>\n",
       "      <td>Current prices, million euro</td>\n",
       "      <td>Gross domestic product at market prices</td>\n",
       "      <td>Germany</td>\n",
       "      <td>2024</td>\n",
       "    </tr>\n",
       "  </tbody>\n",
       "</table>\n",
       "</div>"
      ],
      "text/plain": [
       "  freq     unit na_item geo  time      value status freq_label  \\\n",
       "0    A  CP_MEUR    B1GQ  BE  2024   613983.9      p     Annual   \n",
       "1    A  CP_MEUR    B1GQ  BG  2024   103723.0      p     Annual   \n",
       "2    A  CP_MEUR    B1GQ  CZ  2024   320741.7            Annual   \n",
       "3    A  CP_MEUR    B1GQ  DK  2024   392400.7            Annual   \n",
       "4    A  CP_MEUR    B1GQ  DE  2024  4305260.0      p     Annual   \n",
       "\n",
       "                     unit_label                            na_item_label  \\\n",
       "0  Current prices, million euro  Gross domestic product at market prices   \n",
       "1  Current prices, million euro  Gross domestic product at market prices   \n",
       "2  Current prices, million euro  Gross domestic product at market prices   \n",
       "3  Current prices, million euro  Gross domestic product at market prices   \n",
       "4  Current prices, million euro  Gross domestic product at market prices   \n",
       "\n",
       "  geo_label time_label  \n",
       "0   Belgium       2024  \n",
       "1  Bulgaria       2024  \n",
       "2   Czechia       2024  \n",
       "3   Denmark       2024  \n",
       "4   Germany       2024  "
      ]
     },
     "execution_count": 15,
     "metadata": {},
     "output_type": "execute_result"
    }
   ],
   "source": [
    "# By geographic level\n",
    "df_geoLevel = client.get_data_as_dataframe(\n",
    "    dataset_code,\n",
    "    geoLevel='country', # Get data for countries\n",
    "    unit='CP_MEUR',\n",
    "    lastTimePeriod=1\n",
    ")\n",
    "\n",
    "df_geoLevel.head()"
   ]
  },
  {
   "cell_type": "code",
   "execution_count": null,
   "metadata": {},
   "outputs": [
    {
     "data": {
      "application/vnd.microsoft.datawrangler.viewer.v0+json": {
       "columns": [
        {
         "name": "index",
         "rawType": "int64",
         "type": "integer"
        },
        {
         "name": "freq",
         "rawType": "object",
         "type": "string"
        },
        {
         "name": "unit",
         "rawType": "object",
         "type": "string"
        },
        {
         "name": "nace_r2",
         "rawType": "object",
         "type": "string"
        },
        {
         "name": "indic",
         "rawType": "object",
         "type": "string"
        },
        {
         "name": "geo",
         "rawType": "object",
         "type": "string"
        },
        {
         "name": "time",
         "rawType": "object",
         "type": "string"
        },
        {
         "name": "value",
         "rawType": "float64",
         "type": "float"
        },
        {
         "name": "status",
         "rawType": "object",
         "type": "string"
        },
        {
         "name": "freq_label",
         "rawType": "object",
         "type": "string"
        },
        {
         "name": "unit_label",
         "rawType": "object",
         "type": "string"
        },
        {
         "name": "nace_r2_label",
         "rawType": "object",
         "type": "string"
        },
        {
         "name": "indic_label",
         "rawType": "object",
         "type": "string"
        },
        {
         "name": "geo_label",
         "rawType": "object",
         "type": "string"
        },
        {
         "name": "time_label",
         "rawType": "object",
         "type": "string"
        }
       ],
       "ref": "4b97d925-c438-497f-a8d5-e650d71cdbde",
       "rows": [
        [
         "0",
         "M",
         "RT1-SCA",
         "B-D_F",
         "IS-IP",
         "SE",
         "2024-01",
         "2.0",
         "i",
         "Monthly",
         "Percentage change (t/t-1) - seasonally and calendar adjusted data",
         "Mining and quarrying; manufacturing; electricity, gas, steam and air conditioning supply; construction",
         "Production index",
         "Sweden",
         "2024-01"
        ],
        [
         "1",
         "M",
         "RT1-SCA",
         "B-D_F",
         "IS-IP",
         "SE",
         "2024-02",
         "-1.9",
         "i",
         "Monthly",
         "Percentage change (t/t-1) - seasonally and calendar adjusted data",
         "Mining and quarrying; manufacturing; electricity, gas, steam and air conditioning supply; construction",
         "Production index",
         "Sweden",
         "2024-02"
        ],
        [
         "2",
         "M",
         "RT1-SCA",
         "B-D_F",
         "IS-IP",
         "SE",
         "2024-03",
         "0.1",
         "i",
         "Monthly",
         "Percentage change (t/t-1) - seasonally and calendar adjusted data",
         "Mining and quarrying; manufacturing; electricity, gas, steam and air conditioning supply; construction",
         "Production index",
         "Sweden",
         "2024-03"
        ],
        [
         "3",
         "M",
         "RT1-SCA",
         "B-D_F",
         "IS-IP",
         "SE",
         "2024-04",
         "-3.9",
         "i",
         "Monthly",
         "Percentage change (t/t-1) - seasonally and calendar adjusted data",
         "Mining and quarrying; manufacturing; electricity, gas, steam and air conditioning supply; construction",
         "Production index",
         "Sweden",
         "2024-04"
        ],
        [
         "4",
         "M",
         "RT1-SCA",
         "B-D_F",
         "IS-IP",
         "SE",
         "2024-05",
         "1.7",
         "p",
         "Monthly",
         "Percentage change (t/t-1) - seasonally and calendar adjusted data",
         "Mining and quarrying; manufacturing; electricity, gas, steam and air conditioning supply; construction",
         "Production index",
         "Sweden",
         "2024-05"
        ]
       ],
       "shape": {
        "columns": 14,
        "rows": 5
       }
      },
      "text/html": [
       "<div>\n",
       "<style scoped>\n",
       "    .dataframe tbody tr th:only-of-type {\n",
       "        vertical-align: middle;\n",
       "    }\n",
       "\n",
       "    .dataframe tbody tr th {\n",
       "        vertical-align: top;\n",
       "    }\n",
       "\n",
       "    .dataframe thead th {\n",
       "        text-align: right;\n",
       "    }\n",
       "</style>\n",
       "<table border=\"1\" class=\"dataframe\">\n",
       "  <thead>\n",
       "    <tr style=\"text-align: right;\">\n",
       "      <th></th>\n",
       "      <th>freq</th>\n",
       "      <th>unit</th>\n",
       "      <th>nace_r2</th>\n",
       "      <th>indic</th>\n",
       "      <th>geo</th>\n",
       "      <th>time</th>\n",
       "      <th>value</th>\n",
       "      <th>status</th>\n",
       "      <th>freq_label</th>\n",
       "      <th>unit_label</th>\n",
       "      <th>nace_r2_label</th>\n",
       "      <th>indic_label</th>\n",
       "      <th>geo_label</th>\n",
       "      <th>time_label</th>\n",
       "    </tr>\n",
       "  </thead>\n",
       "  <tbody>\n",
       "    <tr>\n",
       "      <th>0</th>\n",
       "      <td>M</td>\n",
       "      <td>RT1-SCA</td>\n",
       "      <td>B-D_F</td>\n",
       "      <td>IS-IP</td>\n",
       "      <td>SE</td>\n",
       "      <td>2024-01</td>\n",
       "      <td>2.0</td>\n",
       "      <td>i</td>\n",
       "      <td>Monthly</td>\n",
       "      <td>Percentage change (t/t-1) - seasonally and cal...</td>\n",
       "      <td>Mining and quarrying; manufacturing; electrici...</td>\n",
       "      <td>Production index</td>\n",
       "      <td>Sweden</td>\n",
       "      <td>2024-01</td>\n",
       "    </tr>\n",
       "    <tr>\n",
       "      <th>1</th>\n",
       "      <td>M</td>\n",
       "      <td>RT1-SCA</td>\n",
       "      <td>B-D_F</td>\n",
       "      <td>IS-IP</td>\n",
       "      <td>SE</td>\n",
       "      <td>2024-02</td>\n",
       "      <td>-1.9</td>\n",
       "      <td>i</td>\n",
       "      <td>Monthly</td>\n",
       "      <td>Percentage change (t/t-1) - seasonally and cal...</td>\n",
       "      <td>Mining and quarrying; manufacturing; electrici...</td>\n",
       "      <td>Production index</td>\n",
       "      <td>Sweden</td>\n",
       "      <td>2024-02</td>\n",
       "    </tr>\n",
       "    <tr>\n",
       "      <th>2</th>\n",
       "      <td>M</td>\n",
       "      <td>RT1-SCA</td>\n",
       "      <td>B-D_F</td>\n",
       "      <td>IS-IP</td>\n",
       "      <td>SE</td>\n",
       "      <td>2024-03</td>\n",
       "      <td>0.1</td>\n",
       "      <td>i</td>\n",
       "      <td>Monthly</td>\n",
       "      <td>Percentage change (t/t-1) - seasonally and cal...</td>\n",
       "      <td>Mining and quarrying; manufacturing; electrici...</td>\n",
       "      <td>Production index</td>\n",
       "      <td>Sweden</td>\n",
       "      <td>2024-03</td>\n",
       "    </tr>\n",
       "    <tr>\n",
       "      <th>3</th>\n",
       "      <td>M</td>\n",
       "      <td>RT1-SCA</td>\n",
       "      <td>B-D_F</td>\n",
       "      <td>IS-IP</td>\n",
       "      <td>SE</td>\n",
       "      <td>2024-04</td>\n",
       "      <td>-3.9</td>\n",
       "      <td>i</td>\n",
       "      <td>Monthly</td>\n",
       "      <td>Percentage change (t/t-1) - seasonally and cal...</td>\n",
       "      <td>Mining and quarrying; manufacturing; electrici...</td>\n",
       "      <td>Production index</td>\n",
       "      <td>Sweden</td>\n",
       "      <td>2024-04</td>\n",
       "    </tr>\n",
       "    <tr>\n",
       "      <th>4</th>\n",
       "      <td>M</td>\n",
       "      <td>RT1-SCA</td>\n",
       "      <td>B-D_F</td>\n",
       "      <td>IS-IP</td>\n",
       "      <td>SE</td>\n",
       "      <td>2024-05</td>\n",
       "      <td>1.7</td>\n",
       "      <td>p</td>\n",
       "      <td>Monthly</td>\n",
       "      <td>Percentage change (t/t-1) - seasonally and cal...</td>\n",
       "      <td>Mining and quarrying; manufacturing; electrici...</td>\n",
       "      <td>Production index</td>\n",
       "      <td>Sweden</td>\n",
       "      <td>2024-05</td>\n",
       "    </tr>\n",
       "  </tbody>\n",
       "</table>\n",
       "</div>"
      ],
      "text/plain": [
       "  freq     unit nace_r2  indic geo     time  value status freq_label  \\\n",
       "0    M  RT1-SCA   B-D_F  IS-IP  SE  2024-01    2.0      i    Monthly   \n",
       "1    M  RT1-SCA   B-D_F  IS-IP  SE  2024-02   -1.9      i    Monthly   \n",
       "2    M  RT1-SCA   B-D_F  IS-IP  SE  2024-03    0.1      i    Monthly   \n",
       "3    M  RT1-SCA   B-D_F  IS-IP  SE  2024-04   -3.9      i    Monthly   \n",
       "4    M  RT1-SCA   B-D_F  IS-IP  SE  2024-05    1.7      p    Monthly   \n",
       "\n",
       "                                          unit_label  \\\n",
       "0  Percentage change (t/t-1) - seasonally and cal...   \n",
       "1  Percentage change (t/t-1) - seasonally and cal...   \n",
       "2  Percentage change (t/t-1) - seasonally and cal...   \n",
       "3  Percentage change (t/t-1) - seasonally and cal...   \n",
       "4  Percentage change (t/t-1) - seasonally and cal...   \n",
       "\n",
       "                                       nace_r2_label       indic_label  \\\n",
       "0  Mining and quarrying; manufacturing; electrici...  Production index   \n",
       "1  Mining and quarrying; manufacturing; electrici...  Production index   \n",
       "2  Mining and quarrying; manufacturing; electrici...  Production index   \n",
       "3  Mining and quarrying; manufacturing; electrici...  Production index   \n",
       "4  Mining and quarrying; manufacturing; electrici...  Production index   \n",
       "\n",
       "  geo_label time_label  \n",
       "0    Sweden    2024-01  \n",
       "1    Sweden    2024-02  \n",
       "2    Sweden    2024-03  \n",
       "3    Sweden    2024-04  \n",
       "4    Sweden    2024-05  "
      ]
     },
     "execution_count": 16,
     "metadata": {},
     "output_type": "execute_result"
    }
   ],
   "source": [
    "# Time ranges\n",
    "df_timeRange = client.get_data_as_dataframe(\n",
    "    'ei_isbr_m',\n",
    "    geo='SE',\n",
    "    sinceTimePeriod='2024-01',  # From date\n",
    "    untilTimePeriod='2024-12'   # To date\n",
    ")\n",
    "\n",
    "df_timeRange.head()"
   ]
  },
  {
   "cell_type": "code",
   "execution_count": null,
   "metadata": {},
   "outputs": [
    {
     "data": {
      "application/vnd.microsoft.datawrangler.viewer.v0+json": {
       "columns": [
        {
         "name": "index",
         "rawType": "int64",
         "type": "integer"
        },
        {
         "name": "freq",
         "rawType": "object",
         "type": "string"
        },
        {
         "name": "isced11",
         "rawType": "object",
         "type": "string"
        },
        {
         "name": "sex",
         "rawType": "object",
         "type": "string"
        },
        {
         "name": "age",
         "rawType": "object",
         "type": "string"
        },
        {
         "name": "unit",
         "rawType": "object",
         "type": "string"
        },
        {
         "name": "geo",
         "rawType": "object",
         "type": "string"
        },
        {
         "name": "time",
         "rawType": "object",
         "type": "string"
        },
        {
         "name": "value",
         "rawType": "float64",
         "type": "float"
        },
        {
         "name": "freq_label",
         "rawType": "object",
         "type": "string"
        },
        {
         "name": "isced11_label",
         "rawType": "object",
         "type": "string"
        },
        {
         "name": "sex_label",
         "rawType": "object",
         "type": "string"
        },
        {
         "name": "age_label",
         "rawType": "object",
         "type": "string"
        },
        {
         "name": "unit_label",
         "rawType": "object",
         "type": "string"
        },
        {
         "name": "geo_label",
         "rawType": "object",
         "type": "string"
        },
        {
         "name": "time_label",
         "rawType": "object",
         "type": "string"
        }
       ],
       "ref": "15a3b3f5-ecc5-4e08-90f3-61dc31c91348",
       "rows": [
        [
         "0",
         "A",
         "ED0-2",
         "M",
         "Y25-64",
         "THS_PER",
         "SE11",
         "2022",
         "76.0",
         "Annual",
         "Less than primary, primary and lower secondary education (levels 0-2)",
         "Males",
         "From 25 to 64 years",
         "Thousand persons",
         "Stockholm",
         "2022"
        ],
        [
         "1",
         "A",
         "ED0-2",
         "M",
         "Y25-64",
         "THS_PER",
         "SE11",
         "2023",
         "76.3",
         "Annual",
         "Less than primary, primary and lower secondary education (levels 0-2)",
         "Males",
         "From 25 to 64 years",
         "Thousand persons",
         "Stockholm",
         "2023"
        ],
        [
         "2",
         "A",
         "ED0-2",
         "M",
         "Y25-64",
         "THS_PER",
         "SE11",
         "2024",
         "74.4",
         "Annual",
         "Less than primary, primary and lower secondary education (levels 0-2)",
         "Males",
         "From 25 to 64 years",
         "Thousand persons",
         "Stockholm",
         "2024"
        ],
        [
         "3",
         "A",
         "ED0-2",
         "M",
         "Y25-64",
         "THS_PER",
         "SE12",
         "2022",
         "62.6",
         "Annual",
         "Less than primary, primary and lower secondary education (levels 0-2)",
         "Males",
         "From 25 to 64 years",
         "Thousand persons",
         "Östra Mellansverige",
         "2022"
        ],
        [
         "4",
         "A",
         "ED0-2",
         "M",
         "Y25-64",
         "THS_PER",
         "SE12",
         "2023",
         "68.7",
         "Annual",
         "Less than primary, primary and lower secondary education (levels 0-2)",
         "Males",
         "From 25 to 64 years",
         "Thousand persons",
         "Östra Mellansverige",
         "2023"
        ]
       ],
       "shape": {
        "columns": 15,
        "rows": 5
       }
      },
      "text/html": [
       "<div>\n",
       "<style scoped>\n",
       "    .dataframe tbody tr th:only-of-type {\n",
       "        vertical-align: middle;\n",
       "    }\n",
       "\n",
       "    .dataframe tbody tr th {\n",
       "        vertical-align: top;\n",
       "    }\n",
       "\n",
       "    .dataframe thead th {\n",
       "        text-align: right;\n",
       "    }\n",
       "</style>\n",
       "<table border=\"1\" class=\"dataframe\">\n",
       "  <thead>\n",
       "    <tr style=\"text-align: right;\">\n",
       "      <th></th>\n",
       "      <th>freq</th>\n",
       "      <th>isced11</th>\n",
       "      <th>sex</th>\n",
       "      <th>age</th>\n",
       "      <th>unit</th>\n",
       "      <th>geo</th>\n",
       "      <th>time</th>\n",
       "      <th>value</th>\n",
       "      <th>freq_label</th>\n",
       "      <th>isced11_label</th>\n",
       "      <th>sex_label</th>\n",
       "      <th>age_label</th>\n",
       "      <th>unit_label</th>\n",
       "      <th>geo_label</th>\n",
       "      <th>time_label</th>\n",
       "    </tr>\n",
       "  </thead>\n",
       "  <tbody>\n",
       "    <tr>\n",
       "      <th>0</th>\n",
       "      <td>A</td>\n",
       "      <td>ED0-2</td>\n",
       "      <td>M</td>\n",
       "      <td>Y25-64</td>\n",
       "      <td>THS_PER</td>\n",
       "      <td>SE11</td>\n",
       "      <td>2022</td>\n",
       "      <td>76.0</td>\n",
       "      <td>Annual</td>\n",
       "      <td>Less than primary, primary and lower secondary...</td>\n",
       "      <td>Males</td>\n",
       "      <td>From 25 to 64 years</td>\n",
       "      <td>Thousand persons</td>\n",
       "      <td>Stockholm</td>\n",
       "      <td>2022</td>\n",
       "    </tr>\n",
       "    <tr>\n",
       "      <th>1</th>\n",
       "      <td>A</td>\n",
       "      <td>ED0-2</td>\n",
       "      <td>M</td>\n",
       "      <td>Y25-64</td>\n",
       "      <td>THS_PER</td>\n",
       "      <td>SE11</td>\n",
       "      <td>2023</td>\n",
       "      <td>76.3</td>\n",
       "      <td>Annual</td>\n",
       "      <td>Less than primary, primary and lower secondary...</td>\n",
       "      <td>Males</td>\n",
       "      <td>From 25 to 64 years</td>\n",
       "      <td>Thousand persons</td>\n",
       "      <td>Stockholm</td>\n",
       "      <td>2023</td>\n",
       "    </tr>\n",
       "    <tr>\n",
       "      <th>2</th>\n",
       "      <td>A</td>\n",
       "      <td>ED0-2</td>\n",
       "      <td>M</td>\n",
       "      <td>Y25-64</td>\n",
       "      <td>THS_PER</td>\n",
       "      <td>SE11</td>\n",
       "      <td>2024</td>\n",
       "      <td>74.4</td>\n",
       "      <td>Annual</td>\n",
       "      <td>Less than primary, primary and lower secondary...</td>\n",
       "      <td>Males</td>\n",
       "      <td>From 25 to 64 years</td>\n",
       "      <td>Thousand persons</td>\n",
       "      <td>Stockholm</td>\n",
       "      <td>2024</td>\n",
       "    </tr>\n",
       "    <tr>\n",
       "      <th>3</th>\n",
       "      <td>A</td>\n",
       "      <td>ED0-2</td>\n",
       "      <td>M</td>\n",
       "      <td>Y25-64</td>\n",
       "      <td>THS_PER</td>\n",
       "      <td>SE12</td>\n",
       "      <td>2022</td>\n",
       "      <td>62.6</td>\n",
       "      <td>Annual</td>\n",
       "      <td>Less than primary, primary and lower secondary...</td>\n",
       "      <td>Males</td>\n",
       "      <td>From 25 to 64 years</td>\n",
       "      <td>Thousand persons</td>\n",
       "      <td>Östra Mellansverige</td>\n",
       "      <td>2022</td>\n",
       "    </tr>\n",
       "    <tr>\n",
       "      <th>4</th>\n",
       "      <td>A</td>\n",
       "      <td>ED0-2</td>\n",
       "      <td>M</td>\n",
       "      <td>Y25-64</td>\n",
       "      <td>THS_PER</td>\n",
       "      <td>SE12</td>\n",
       "      <td>2023</td>\n",
       "      <td>68.7</td>\n",
       "      <td>Annual</td>\n",
       "      <td>Less than primary, primary and lower secondary...</td>\n",
       "      <td>Males</td>\n",
       "      <td>From 25 to 64 years</td>\n",
       "      <td>Thousand persons</td>\n",
       "      <td>Östra Mellansverige</td>\n",
       "      <td>2023</td>\n",
       "    </tr>\n",
       "  </tbody>\n",
       "</table>\n",
       "</div>"
      ],
      "text/plain": [
       "  freq isced11 sex     age     unit   geo  time  value freq_label  \\\n",
       "0    A   ED0-2   M  Y25-64  THS_PER  SE11  2022   76.0     Annual   \n",
       "1    A   ED0-2   M  Y25-64  THS_PER  SE11  2023   76.3     Annual   \n",
       "2    A   ED0-2   M  Y25-64  THS_PER  SE11  2024   74.4     Annual   \n",
       "3    A   ED0-2   M  Y25-64  THS_PER  SE12  2022   62.6     Annual   \n",
       "4    A   ED0-2   M  Y25-64  THS_PER  SE12  2023   68.7     Annual   \n",
       "\n",
       "                                       isced11_label sex_label  \\\n",
       "0  Less than primary, primary and lower secondary...     Males   \n",
       "1  Less than primary, primary and lower secondary...     Males   \n",
       "2  Less than primary, primary and lower secondary...     Males   \n",
       "3  Less than primary, primary and lower secondary...     Males   \n",
       "4  Less than primary, primary and lower secondary...     Males   \n",
       "\n",
       "             age_label        unit_label            geo_label time_label  \n",
       "0  From 25 to 64 years  Thousand persons            Stockholm       2022  \n",
       "1  From 25 to 64 years  Thousand persons            Stockholm       2023  \n",
       "2  From 25 to 64 years  Thousand persons            Stockholm       2024  \n",
       "3  From 25 to 64 years  Thousand persons  Östra Mellansverige       2022  \n",
       "4  From 25 to 64 years  Thousand persons  Östra Mellansverige       2023  "
      ]
     },
     "execution_count": 17,
     "metadata": {},
     "output_type": "execute_result"
    }
   ],
   "source": [
    "# Complex filtering with multiple dimensions\n",
    "df_multiDim = client.get_data_as_dataframe(\n",
    "    'lfst_r_lfsd2pop',\n",
    "    geo=['SE11', 'SE12'],                   # Specific NUTS2 regions\n",
    "    age='Y25-64',                           # Age group\n",
    "    isced11=['ED0-2', 'ED3_4', 'ED5-8'],    # Educational level\n",
    "    sex=['M', 'F'],                         # Males and Females\n",
    "    lastTimePeriod=3                        # Last three time periods\n",
    ")\n",
    "\n",
    "df_multiDim.head()"
   ]
  },
  {
   "cell_type": "markdown",
   "metadata": {},
   "source": [
    "## Error Handling\n",
    "\n",
    "The library provides comprehensive error handling.\n",
    "\n",
    "Common error scenarios:\n",
    "- Invalid table ID or other parameters\n",
    "- Network connectivity issues\n",
    "- Wrapper bug (please report an issue on github)"
   ]
  },
  {
   "cell_type": "code",
   "execution_count": 18,
   "metadata": {},
   "outputs": [
    {
     "name": "stdout",
     "output_type": "stream",
     "text": [
      "API error: Failed to get data: Dataset not found: ERR_NOT_FOUND_4: INVALID_DATASET (DATA_FLOW:ALL,1.0) is not available for dissemination.\n"
     ]
    }
   ],
   "source": [
    "try:\n",
    "    df = client.get_data_as_dataframe('invalid_dataset')\n",
    "except est.DatasetNotFoundError:\n",
    "    print(\"Dataset not found\")\n",
    "except est.InvalidParameterError as e:\n",
    "    print(f\"Invalid parameters: {e}\")\n",
    "except est.EurostatAPIError as e:\n",
    "    print(f\"API error: {e}\")"
   ]
  }
 ],
 "metadata": {
  "kernelspec": {
   "display_name": ".venv",
   "language": "python",
   "name": "python3"
  },
  "language_info": {
   "codemirror_mode": {
    "name": "ipython",
    "version": 3
   },
   "file_extension": ".py",
   "mimetype": "text/x-python",
   "name": "python",
   "nbconvert_exporter": "python",
   "pygments_lexer": "ipython3",
   "version": "3.11.5"
  }
 },
 "nbformat": 4,
 "nbformat_minor": 2
}
